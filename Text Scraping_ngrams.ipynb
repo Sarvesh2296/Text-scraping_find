{
 "cells": [
  {
   "cell_type": "code",
   "execution_count": null,
   "metadata": {},
   "outputs": [],
   "source": [
    "import pandas as pd\n",
    "import numpy as np\n",
    "import re"
   ]
  },
  {
   "cell_type": "code",
   "execution_count": null,
   "metadata": {},
   "outputs": [],
   "source": [
    "data_req = pd.read_excel(\"File for analytics team - contingent labor requests_MASKED_cleaned.xlsx\", \"Requests\")\n",
    "data_tax = pd.read_excel(\"File for analytics team - contingent labor requests_MASKED_cleaned.xlsx\", \"Taxonomy\")"
   ]
  },
  {
   "cell_type": "code",
   "execution_count": null,
   "metadata": {},
   "outputs": [],
   "source": [
    "skills = data_tax[\"All Skills\"]\n",
    "desc = data_req[\"Description\"]\n",
    "#skills = skills.apply(lambda x : x.lower())"
   ]
  },
  {
   "cell_type": "code",
   "execution_count": null,
   "metadata": {},
   "outputs": [],
   "source": [
    "def generate_ngrams(s, n):\n",
    "    # Convert to lowercases\n",
    "    s = s.lower()\n",
    "    \n",
    "    # Replace all none alphanumeric characters with spaces\n",
    "    s = re.sub(r'[^a-zA-Z0-9\\s]', ' ', s)\n",
    "    \n",
    "    # Break sentence in the token, remove empty tokens\n",
    "    tokens = [token for token in s.split(\" \") if token != \"\"]\n",
    "    \n",
    "    # Use the zip function to help us generate n-grams\n",
    "    # Concatentate the tokens into ngrams and return\n",
    "    ngrams = zip(*[tokens[i:] for i in range(n)])\n",
    "    return [\" \".join(ngram) for ngram in ngrams]"
   ]
  },
  {
   "cell_type": "code",
   "execution_count": null,
   "metadata": {},
   "outputs": [],
   "source": [
    "# By using n grams technique \n",
    "\n",
    "for k in range(desc.shape[0]) : \n",
    "    x = generate_ngrams(desc[k], 1)\n",
    "    ex_li = []\n",
    "    ctr = 0\n",
    "    li = []\n",
    "    for j in range(len(x)) : \n",
    "        for l in range(skills.shape[0]) : \n",
    "            if x[j] == skills[l] :\n",
    "                ctr = ctr + 1\n",
    "                if ctr == 1 : \n",
    "                    li.append(skills[l])\n",
    "                else : \n",
    "                    li.append(\", \" + skills[l])\n",
    "        ex_li.append(li)  "
   ]
  },
  {
   "cell_type": "code",
   "execution_count": null,
   "metadata": {},
   "outputs": [],
   "source": [
    "cols = data_req.columns.tolist()\n",
    "cols\n",
    "cols_new = ['CIO', 'Masked Worker ID', 'Job Posting Title']\n",
    "final = data_req[cols_new]\n",
    "final.shape"
   ]
  },
  {
   "cell_type": "code",
   "execution_count": null,
   "metadata": {},
   "outputs": [],
   "source": [
    "final['Skills'] = ex_li\n",
    "final['Job Description'] = data_req['Description']\n",
    "final"
   ]
  }
 ],
 "metadata": {
  "kernelspec": {
   "display_name": "Python 3",
   "language": "python",
   "name": "python3"
  },
  "language_info": {
   "codemirror_mode": {
    "name": "ipython",
    "version": 3
   },
   "file_extension": ".py",
   "mimetype": "text/x-python",
   "name": "python",
   "nbconvert_exporter": "python",
   "pygments_lexer": "ipython3",
   "version": "3.6.5"
  }
 },
 "nbformat": 4,
 "nbformat_minor": 2
}
