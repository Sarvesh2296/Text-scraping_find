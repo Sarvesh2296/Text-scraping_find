{
 "cells": [
  {
   "cell_type": "code",
   "execution_count": 4,
   "metadata": {},
   "outputs": [],
   "source": [
    "import pandas as pd\n",
    "import numpy as np\n",
    "import re\n",
    "import csv"
   ]
  },
  {
   "cell_type": "code",
   "execution_count": 5,
   "metadata": {},
   "outputs": [],
   "source": [
    "data_req = pd.read_excel(\"File for analytics team - contingent labor requests_MASKED_cleaned.xlsx\", \"Requests\")\n",
    "data_tax = pd.read_excel(\"File for analytics team - contingent labor requests_MASKED_cleaned.xlsx\", \"Taxonomy\")"
   ]
  },
  {
   "cell_type": "code",
   "execution_count": 6,
   "metadata": {
    "scrolled": true
   },
   "outputs": [
    {
     "data": {
      "text/html": [
       "<div>\n",
       "<style scoped>\n",
       "    .dataframe tbody tr th:only-of-type {\n",
       "        vertical-align: middle;\n",
       "    }\n",
       "\n",
       "    .dataframe tbody tr th {\n",
       "        vertical-align: top;\n",
       "    }\n",
       "\n",
       "    .dataframe thead th {\n",
       "        text-align: right;\n",
       "    }\n",
       "</style>\n",
       "<table border=\"1\" class=\"dataframe\">\n",
       "  <thead>\n",
       "    <tr style=\"text-align: right;\">\n",
       "      <th></th>\n",
       "      <th>Masked Worker ID</th>\n",
       "      <th>Job Posting Title</th>\n",
       "      <th>Description</th>\n",
       "      <th>CIO</th>\n",
       "    </tr>\n",
       "  </thead>\n",
       "  <tbody>\n",
       "    <tr>\n",
       "      <th>0</th>\n",
       "      <td>2444</td>\n",
       "      <td>Database Administrator - III</td>\n",
       "      <td>Plan, coordinate, and administer database syst...</td>\n",
       "      <td>NaN</td>\n",
       "    </tr>\n",
       "    <tr>\n",
       "      <th>1</th>\n",
       "      <td>2470</td>\n",
       "      <td>Software Systems Engineer - III</td>\n",
       "      <td>Works on problems of moderate and varied compl...</td>\n",
       "      <td>NaN</td>\n",
       "    </tr>\n",
       "    <tr>\n",
       "      <th>2</th>\n",
       "      <td>2477</td>\n",
       "      <td>Systems Administrator - III</td>\n",
       "      <td>Performs complex analysis, acquisition, instal...</td>\n",
       "      <td>NaN</td>\n",
       "    </tr>\n",
       "    <tr>\n",
       "      <th>3</th>\n",
       "      <td>2488</td>\n",
       "      <td>Software Systems Engineer - III</td>\n",
       "      <td>Works on problems of moderate and varied compl...</td>\n",
       "      <td>Faheem</td>\n",
       "    </tr>\n",
       "    <tr>\n",
       "      <th>4</th>\n",
       "      <td>2492</td>\n",
       "      <td>Software Systems Engineer - III</td>\n",
       "      <td>Works on problems of moderate and varied compl...</td>\n",
       "      <td>NaN</td>\n",
       "    </tr>\n",
       "  </tbody>\n",
       "</table>\n",
       "</div>"
      ],
      "text/plain": [
       "   Masked Worker ID                Job Posting Title  \\\n",
       "0              2444     Database Administrator - III   \n",
       "1              2470  Software Systems Engineer - III   \n",
       "2              2477      Systems Administrator - III   \n",
       "3              2488  Software Systems Engineer - III   \n",
       "4              2492  Software Systems Engineer - III   \n",
       "\n",
       "                                         Description     CIO  \n",
       "0  Plan, coordinate, and administer database syst...     NaN  \n",
       "1  Works on problems of moderate and varied compl...     NaN  \n",
       "2  Performs complex analysis, acquisition, instal...     NaN  \n",
       "3  Works on problems of moderate and varied compl...  Faheem  \n",
       "4  Works on problems of moderate and varied compl...     NaN  "
      ]
     },
     "execution_count": 6,
     "metadata": {},
     "output_type": "execute_result"
    }
   ],
   "source": [
    "data_req.head()"
   ]
  },
  {
   "cell_type": "code",
   "execution_count": 7,
   "metadata": {},
   "outputs": [
    {
     "data": {
      "text/html": [
       "<div>\n",
       "<style scoped>\n",
       "    .dataframe tbody tr th:only-of-type {\n",
       "        vertical-align: middle;\n",
       "    }\n",
       "\n",
       "    .dataframe tbody tr th {\n",
       "        vertical-align: top;\n",
       "    }\n",
       "\n",
       "    .dataframe thead th {\n",
       "        text-align: right;\n",
       "    }\n",
       "</style>\n",
       "<table border=\"1\" class=\"dataframe\">\n",
       "  <thead>\n",
       "    <tr style=\"text-align: right;\">\n",
       "      <th></th>\n",
       "      <th>#</th>\n",
       "      <th>Source</th>\n",
       "      <th>Type</th>\n",
       "      <th>L1</th>\n",
       "      <th>L2</th>\n",
       "      <th>L3</th>\n",
       "      <th>L4</th>\n",
       "      <th>L2.1</th>\n",
       "      <th>L3.1</th>\n",
       "      <th>L4.1</th>\n",
       "      <th>All Skills</th>\n",
       "    </tr>\n",
       "  </thead>\n",
       "  <tbody>\n",
       "    <tr>\n",
       "      <th>0</th>\n",
       "      <td>1.0</td>\n",
       "      <td>VZ IT taxonomy</td>\n",
       "      <td>NaN</td>\n",
       "      <td>Security</td>\n",
       "      <td>.NET</td>\n",
       "      <td>Development</td>\n",
       "      <td>.Net</td>\n",
       "      <td>.net</td>\n",
       "      <td>development</td>\n",
       "      <td>.net</td>\n",
       "      <td>net</td>\n",
       "    </tr>\n",
       "    <tr>\n",
       "      <th>1</th>\n",
       "      <td>2.0</td>\n",
       "      <td>VZ IT taxonomy</td>\n",
       "      <td>NaN</td>\n",
       "      <td>Development</td>\n",
       "      <td>.NET</td>\n",
       "      <td>Application Development</td>\n",
       "      <td>.Net Core</td>\n",
       "      <td>.net</td>\n",
       "      <td>application development</td>\n",
       "      <td>.net core</td>\n",
       "      <td>net core</td>\n",
       "    </tr>\n",
       "    <tr>\n",
       "      <th>2</th>\n",
       "      <td>3.0</td>\n",
       "      <td>VZ IT taxonomy</td>\n",
       "      <td>NaN</td>\n",
       "      <td>Network</td>\n",
       "      <td>Geospatial information systems</td>\n",
       "      <td>Mapping tools</td>\n",
       "      <td>3GIS</td>\n",
       "      <td>geospatial information systems</td>\n",
       "      <td>mapping tools</td>\n",
       "      <td>3gis</td>\n",
       "      <td>3gis</td>\n",
       "    </tr>\n",
       "    <tr>\n",
       "      <th>3</th>\n",
       "      <td>4.0</td>\n",
       "      <td>VZ IT taxonomy</td>\n",
       "      <td>NaN</td>\n",
       "      <td>Network</td>\n",
       "      <td>Standards</td>\n",
       "      <td>Wireless Standards</td>\n",
       "      <td>3GPP</td>\n",
       "      <td>standards</td>\n",
       "      <td>wireless standards</td>\n",
       "      <td>3gpp</td>\n",
       "      <td>3gpp</td>\n",
       "    </tr>\n",
       "    <tr>\n",
       "      <th>4</th>\n",
       "      <td>5.0</td>\n",
       "      <td>VZ IT taxonomy</td>\n",
       "      <td>NaN</td>\n",
       "      <td>Development</td>\n",
       "      <td>IBM</td>\n",
       "      <td>Mainframe</td>\n",
       "      <td>AbendAid</td>\n",
       "      <td>ibm</td>\n",
       "      <td>mainframe</td>\n",
       "      <td>abendaid</td>\n",
       "      <td>abendaid</td>\n",
       "    </tr>\n",
       "  </tbody>\n",
       "</table>\n",
       "</div>"
      ],
      "text/plain": [
       "     #          Source Type           L1                              L2  \\\n",
       "0  1.0  VZ IT taxonomy  NaN     Security                            .NET   \n",
       "1  2.0  VZ IT taxonomy  NaN  Development                            .NET   \n",
       "2  3.0  VZ IT taxonomy  NaN      Network  Geospatial information systems   \n",
       "3  4.0  VZ IT taxonomy  NaN      Network                       Standards   \n",
       "4  5.0  VZ IT taxonomy  NaN  Development                             IBM   \n",
       "\n",
       "                        L3         L4                            L2.1  \\\n",
       "0              Development       .Net                            .net   \n",
       "1  Application Development  .Net Core                            .net   \n",
       "2            Mapping tools       3GIS  geospatial information systems   \n",
       "3       Wireless Standards       3GPP                       standards   \n",
       "4                Mainframe   AbendAid                             ibm   \n",
       "\n",
       "                      L3.1       L4.1 All Skills  \n",
       "0              development       .net        net  \n",
       "1  application development  .net core   net core  \n",
       "2            mapping tools       3gis       3gis  \n",
       "3       wireless standards       3gpp       3gpp  \n",
       "4                mainframe   abendaid   abendaid  "
      ]
     },
     "execution_count": 7,
     "metadata": {},
     "output_type": "execute_result"
    }
   ],
   "source": [
    "data_tax.head()"
   ]
  },
  {
   "cell_type": "code",
   "execution_count": 8,
   "metadata": {},
   "outputs": [],
   "source": [
    "skills = data_tax[\"All Skills\"]\n",
    "desc = data_req[\"Description\"]\n",
    "#skills = skills.apply(lambda x : x.lower())"
   ]
  },
  {
   "cell_type": "code",
   "execution_count": 9,
   "metadata": {},
   "outputs": [],
   "source": [
    "def check_skill(description, skill):\n",
    "    # Convert to lowercases\n",
    "    s = description.lower()\n",
    "    \n",
    "    # Replace all none alphanumeric characters with spaces\n",
    "    s = re.sub(r'[^a-zA-Z0-9\\s]', ' ', s)\n",
    "    \n",
    "    res = s.find(' ' + str(skill) + ' ')\n",
    "    \n",
    "    return res\n",
    "    \n",
    "    # Break sentence in the token, remove empty tokens\n",
    "    #tokens = [token for token in s.split(\" \") if token != \"\"]\n",
    "    \n",
    "    # Use the zip function to help us generate n-grams\n",
    "    # Concatentate the tokens into ngrams and return\n",
    "    #ngrams = zip(*[tokens[i:] for i in range(n)])\n",
    "    #return [\" \".join(ngram) for ngram in ngrams]"
   ]
  },
  {
   "cell_type": "code",
   "execution_count": 10,
   "metadata": {},
   "outputs": [],
   "source": [
    "ex_li = [] \n",
    "for k in range(desc.shape[0]) : \n",
    "    ctr = 0\n",
    "    li = []\n",
    "    for j in range(skills.shape[0]) :\n",
    "        num = check_skill(desc[k], skills[j])\n",
    "        if num != -1 :\n",
    "            li.append(skills[j])\n",
    "    ex_li.append(li)  "
   ]
  },
  {
   "cell_type": "code",
   "execution_count": 11,
   "metadata": {
    "scrolled": false
   },
   "outputs": [
    {
     "data": {
      "text/plain": [
       "1823"
      ]
     },
     "execution_count": 11,
     "metadata": {},
     "output_type": "execute_result"
    }
   ],
   "source": [
    "len(ex_li)"
   ]
  },
  {
   "cell_type": "code",
   "execution_count": 12,
   "metadata": {},
   "outputs": [
    {
     "data": {
      "text/plain": [
       "(1823, 3)"
      ]
     },
     "execution_count": 12,
     "metadata": {},
     "output_type": "execute_result"
    }
   ],
   "source": [
    "cols = data_req.columns.tolist()\n",
    "cols\n",
    "cols_new = ['CIO', 'Masked Worker ID', 'Job Posting Title']\n",
    "final = data_req[cols_new]\n",
    "final.shape"
   ]
  },
  {
   "cell_type": "code",
   "execution_count": 24,
   "metadata": {},
   "outputs": [
    {
     "data": {
      "text/plain": [
       "pandas.core.frame.DataFrame"
      ]
     },
     "execution_count": 24,
     "metadata": {},
     "output_type": "execute_result"
    }
   ],
   "source": [
    "final['Skills'] = ex_li\n",
    "final['Job Description'] = data_req['Description']\n",
    "type(final)"
   ]
  },
  {
   "cell_type": "code",
   "execution_count": 37,
   "metadata": {},
   "outputs": [
    {
     "data": {
      "text/plain": [
       "32284"
      ]
     },
     "execution_count": 37,
     "metadata": {},
     "output_type": "execute_result"
    }
   ],
   "source": [
    "all_skill = [j for i in ex_li for j in i]"
   ]
  },
  {
   "cell_type": "code",
   "execution_count": 15,
   "metadata": {},
   "outputs": [
    {
     "data": {
      "text/plain": [
       "2477"
      ]
     },
     "execution_count": 15,
     "metadata": {},
     "output_type": "execute_result"
    }
   ],
   "source": [
    "uni_skill = set(all_skill)\n",
    "final['Masked Worker ID'][2]"
   ]
  },
  {
   "cell_type": "code",
   "execution_count": 17,
   "metadata": {},
   "outputs": [],
   "source": [
    "my_dict = {}\n",
    "for i in uni_skill : \n",
    "    my_dict[i] = []"
   ]
  },
  {
   "cell_type": "code",
   "execution_count": 18,
   "metadata": {},
   "outputs": [],
   "source": [
    "for item in uni_skill : \n",
    "    lt = []\n",
    "    for index, skill_set in enumerate(final['Skills']) : \n",
    "        if (item in skill_set) : \n",
    "            lt.append(final['Masked Worker ID'][index])\n",
    "            my_dict[item] = lt"
   ]
  },
  {
   "cell_type": "code",
   "execution_count": 36,
   "metadata": {},
   "outputs": [],
   "source": [
    "with open('output.csv', 'w', newline = '') as output:\n",
    "    writer = csv.writer(output)\n",
    "    for key, value in my_dict.items():\n",
    "        writer.writerow([key, value])"
   ]
  },
  {
   "cell_type": "code",
   "execution_count": 81,
   "metadata": {},
   "outputs": [],
   "source": [
    "final.to_excel(\"Final.xlsx\")"
   ]
  }
 ],
 "metadata": {
  "kernelspec": {
   "display_name": "Python 3",
   "language": "python",
   "name": "python3"
  },
  "language_info": {
   "codemirror_mode": {
    "name": "ipython",
    "version": 3
   },
   "file_extension": ".py",
   "mimetype": "text/x-python",
   "name": "python",
   "nbconvert_exporter": "python",
   "pygments_lexer": "ipython3",
   "version": "3.6.5"
  }
 },
 "nbformat": 4,
 "nbformat_minor": 2
}
